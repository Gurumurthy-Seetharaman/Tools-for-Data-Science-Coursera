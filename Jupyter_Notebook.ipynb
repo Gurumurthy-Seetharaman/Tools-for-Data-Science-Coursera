{
 "cells": [
  {
   "cell_type": "markdown",
   "metadata": {},
   "source": [
    "<center>\n",
    "    <img src=\"https://cf-courses-data.s3.us.cloud-object-storage.appdomain.cloud/IBMDeveloperSkillsNetwork-DS0105EN-SkillsNetwork/labs/Module2/images/SN_web_lightmode.png\" width=\"300\" alt=\"cognitiveclass.ai logo\">\n",
    "</center>\n"
   ]
  },
  {
   "cell_type": "markdown",
   "metadata": {},
   "source": [
    "#### Add your code below following the instructions given in the course\n"
   ]
  },
  {
   "cell_type": "code",
   "execution_count": 1,
   "metadata": {
    "jupyter": {
     "source_hidden": true
    },
    "tags": []
   },
   "outputs": [],
   "source": [
    "# My Jupyter Notebook"
   ]
  },
  {
   "cell_type": "code",
   "execution_count": 5,
   "metadata": {
    "tags": []
   },
   "outputs": [],
   "source": [
    "# This Jupyter Notebook is created as the part of final assesment, towards the end of this tools for data science module. This jupyter aims to list the various languages, tools and libraries used in data science."
   ]
  },
  {
   "cell_type": "code",
   "execution_count": 6,
   "metadata": {
    "tags": []
   },
   "outputs": [],
   "source": [
    "# Languages used in data science are Python, R, Julia, Java, SQL, Ruby and Java to name a few"
   ]
  },
  {
   "cell_type": "code",
   "execution_count": 8,
   "metadata": {
    "tags": []
   },
   "outputs": [],
   "source": [
    "# There are numerous libraries, used in data science for various purposes beginning from performing basic arithmetic operations till machine learning.\n",
    "# Few of the most used libraries include: NumPy, Pandas, SciPy, TensorFlow, Keras, PyTorch, NLTK (Natural Learning Toolkit)"
   ]
  },
  {
   "cell_type": "code",
   "execution_count": 10,
   "metadata": {
    "tags": []
   },
   "outputs": [],
   "source": [
    "# Introduction to Arithmetic Expressions in Python\n",
    "\n",
    "# Arithmetic expressions are a fundamental part of programming in Python. They involve mathematical operations such as addition, subtraction, multiplication, and division. In this section, we will explore some basic examples of arithmetic expressions in Python and how to use them to perform calculations."
   ]
  },
  {
   "cell_type": "code",
   "execution_count": 11,
   "metadata": {
    "tags": []
   },
   "outputs": [
    {
     "name": "stdout",
     "output_type": "stream",
     "text": [
      "Multiplication result: 15\n",
      "Addition result: 8\n"
     ]
    }
   ],
   "source": [
    "number1 = 5\n",
    "number2 = 3\n",
    "\n",
    "result_multiply = number1 * number2\n",
    "\n",
    "result_add = number1 + number2\n",
    "\n",
    "print(\"Multiplication result:\", result_multiply)\n",
    "print(\"Addition result:\", result_add)\n"
   ]
  },
  {
   "cell_type": "code",
   "execution_count": 17,
   "metadata": {
    "tags": []
   },
   "outputs": [
    {
     "name": "stdin",
     "output_type": "stream",
     "text": [
      "Enter the time in minutes:  360\n"
     ]
    },
    {
     "name": "stdout",
     "output_type": "stream",
     "text": [
      "360 minutes is equal to 6.0 hours\n"
     ]
    }
   ],
   "source": [
    "minutes_input = input(\"Enter the time in minutes: \")\n",
    "\n",
    "minutes = int(minutes_input)\n",
    "\n",
    "hours = minutes / 60\n",
    "\n",
    "print(f\"{minutes} minutes is equal to {hours} hours\")\n"
   ]
  },
  {
   "cell_type": "code",
   "execution_count": 18,
   "metadata": {
    "tags": []
   },
   "outputs": [],
   "source": [
    "# Notebook Authored by Gurumurthy Seetharaman - A coursera learner"
   ]
  },
  {
   "cell_type": "code",
   "execution_count": null,
   "metadata": {},
   "outputs": [],
   "source": []
  }
 ],
 "metadata": {
  "kernelspec": {
   "display_name": "Python",
   "language": "python",
   "name": "conda-env-python-py"
  },
  "language_info": {
   "codemirror_mode": {
    "name": "ipython",
    "version": 3
   },
   "file_extension": ".py",
   "mimetype": "text/x-python",
   "name": "python",
   "nbconvert_exporter": "python",
   "pygments_lexer": "ipython3",
   "version": "3.7.12"
  }
 },
 "nbformat": 4,
 "nbformat_minor": 4
}
